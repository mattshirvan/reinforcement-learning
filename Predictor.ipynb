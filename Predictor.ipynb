{
 "cells": [
  {
   "cell_type": "markdown",
   "metadata": {},
   "source": [
    "# You are the Predictor\n",
    "    - States: A, B, Terminal one and two.\n",
    "    - Actions: (A -> B -> Terminal one or two) (B -> Terminal one or two)\n",
    "    - Rewards: 0 or 1 "
   ]
  },
  {
   "cell_type": "code",
   "execution_count": 156,
   "metadata": {},
   "outputs": [],
   "source": [
    "import random\n",
    "import matplotlib.pyplot as plt"
   ]
  },
  {
   "cell_type": "code",
   "execution_count": 157,
   "metadata": {},
   "outputs": [],
   "source": [
    "# Episodes\n",
    "episodes = 100\n",
    "\n",
    "# Terminal \n",
    "terminal = [2, 3]"
   ]
  },
  {
   "cell_type": "code",
   "execution_count": 158,
   "metadata": {},
   "outputs": [],
   "source": [
    "def td_zero(episodes, terminal):\n",
    "    \"\"\"\n",
    "    Return TD(0)\n",
    "    \"\"\"\n",
    "    \n",
    "    #####################################\n",
    "    # Tabular TD(0) for estimating v-pi #\n",
    "    #####################################\n",
    "\n",
    "    # Algorithm parameter: step size a -> (0, 1]\n",
    "    alpha = 0.1\n",
    "    \n",
    "    # Initialize V(s), for all s of S+ (arbitrarily) and V(terminal) = 0\n",
    "    V = [0, 0, 0, 0]\n",
    "\n",
    "    # Loop for each episode:\n",
    "    for _ in range(episodes):\n",
    "\n",
    "        # Initialize S\n",
    "        S = random.randint(0, 1)\n",
    "\n",
    "        # Loop for each step of episode: until S is terminal\n",
    "        while S not in terminal:\n",
    "\n",
    "            # A <- action given by pi for S\n",
    "            if S == 0: \n",
    "                A = 1\n",
    "            else: \n",
    "                A = random.choices([1,2], weights = (1/4, 3/4), k=1)[0]\n",
    "\n",
    "            # reset reward\n",
    "            R = 0\n",
    "\n",
    "            # Take action A, observe R, S'\n",
    "            if S+A == terminal[1]: R = 1\n",
    "\n",
    "            # V(S) <-- V(S) + alpha*[R + V(S') - V(S)]\n",
    "            V[S] = V[S] + alpha*((R + V[S+A]) - V[S])\n",
    "\n",
    "            # S <-- S'\n",
    "            S += A\n",
    "\n",
    "    # v_pi\n",
    "    return V"
   ]
  },
  {
   "cell_type": "code",
   "execution_count": 159,
   "metadata": {},
   "outputs": [],
   "source": [
    "def td_batch(episodes, terminal):\n",
    "    \"\"\"\n",
    "    Optimality of TD(0)\n",
    "    \"\"\"\n",
    "    \n",
    "    # Batch list\n",
    "    batch = []\n",
    "    \n",
    "    #####################################\n",
    "    # Tabular TD(0) for estimating v-pi #\n",
    "    #####################################\n",
    "\n",
    "    # Algorithm parameter: step size a -> (0, 1]\n",
    "    alpha = 0.1\n",
    "    \n",
    "    # Approximate value function, V\n",
    "    V = td_zero(episodes, terminal)\n",
    "\n",
    "    # Loop for each episode:\n",
    "    for _ in range(episodes):\n",
    "\n",
    "        # Initialize S\n",
    "        S = random.randint(0, 1)\n",
    "\n",
    "        # Loop for each step of episode: until S is terminal\n",
    "        while S not in terminal:\n",
    "\n",
    "            # A <- action given by pi for S\n",
    "            if S == 0: \n",
    "                A = 1\n",
    "            else: \n",
    "                A = random.choices([1,2], weights = (1/4, 3/4), k=1)[0]\n",
    "\n",
    "            # reset reward\n",
    "            R = 0\n",
    "\n",
    "            # Take action A, observe R, S'\n",
    "            if S+A == terminal[1]: R = 1\n",
    "\n",
    "            # V(S) <-- V(S) + alpha*[R + V(S') - V(S)]\n",
    "            V[S] = V[S] + alpha*((R + V[S+A]) - V[S])\n",
    "            \n",
    "            # Add step of each episode to batch\n",
    "            batch.append((S, A, R))\n",
    "            \n",
    "            # S <-- S'\n",
    "            S += A\n",
    "            \n",
    "        ################\n",
    "        # Batch update #\n",
    "        ################\n",
    "        for S, A, R in batch:\n",
    "            \n",
    "            # V(S) <-- V(S) + alpha*[R + V(S') - V(S)]\n",
    "            V[S] = V[S] + alpha*((R + V[S+A]) - V[S])\n",
    "\n",
    "    # Output v_pi\n",
    "    return V"
   ]
  },
  {
   "cell_type": "code",
   "execution_count": 160,
   "metadata": {},
   "outputs": [
    {
     "data": {
      "image/png": "[encoded data removed]",
      "text/plain": [
       "<Figure size 432x288 with 1 Axes>"
      ]
     },
     "metadata": {
      "needs_background": "light"
     },
     "output_type": "display_data"
    }
   ],
   "source": [
    "plt.plot(td_zero(episodes, terminal))\n",
    "plt.plot(td_batch(episodes, terminal), color=\"red\")\n",
    "plt.show()"
   ]
  }
 ],
 "metadata": {
  "kernelspec": {
   "display_name": "Python 3",
   "language": "python",
   "name": "python3"
  },
  "language_info": {
   "codemirror_mode": {
    "name": "ipython",
    "version": 3
   },
   "file_extension": ".py",
   "mimetype": "text/x-python",
   "name": "python",
   "nbconvert_exporter": "python",
   "pygments_lexer": "ipython3",
   "version": "3.7.6"
  }
 },
 "nbformat": 4,
 "nbformat_minor": 4
}
