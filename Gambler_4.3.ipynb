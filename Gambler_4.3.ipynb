{
 "cells": [
  {
   "cell_type": "markdown",
   "metadata": {},
   "source": [
    "## Example 4.3: Gambler’s Problem\n",
    "- A gambler has the opportunity to make bets on the outcomes of a sequence of coin flips. \n",
    "- If the coin comes up heads, gambler wins as many dollars as the stake on that flip\n",
    "- If the coin comes up tails, gambler loses the stake.\n",
    "- The game ends when the gambler wins by reaching goal of $100 or loses by running out of money\n",
    "- On each flip, the gambler must decide what portion of capital to stake, in integer numbers of dollars."
   ]
  },
  {
   "cell_type": "code",
   "execution_count": 94,
   "metadata": {},
   "outputs": [],
   "source": [
    "import matplotlib.pyplot as plt"
   ]
  },
  {
   "cell_type": "code",
   "execution_count": 95,
   "metadata": {},
   "outputs": [
    {
     "data": {
      "image/png": "[encoded data removed]",
      "text/plain": [
       "<Figure size 432x288 with 1 Axes>"
      ]
     },
     "metadata": {
      "needs_background": "light"
     },
     "output_type": "display_data"
    },
    {
     "data": {
      "image/png": "[encoded data removed]",
      "text/plain": [
       "<Figure size 432x288 with 1 Axes>"
      ]
     },
     "metadata": {
      "needs_background": "light"
     },
     "output_type": "display_data"
    }
   ],
   "source": [
    "##############\n",
    "# Initialize #\n",
    "##############\n",
    "\n",
    "# goal \n",
    "goal = 100\n",
    "\n",
    "# State value function\n",
    "V = [0] * (goal+1)\n",
    "\n",
    "# Policy for actions\n",
    "policy = [[min(j, goal - j) for j in range(i)] for i in range(1, goal+1)]\n",
    "\n",
    "# Policy pi \n",
    "pi = [[min(j, goal - j) for j in range(i)] for i in range(1, goal+1)]\n",
    "\n",
    "# Delta < Theta condition\n",
    "delta = theta = 0.01\n",
    "\n",
    "# probability of heads\n",
    "heads = 0.4\n",
    "\n",
    "# tails\n",
    "tails = 1 - heads\n",
    "\n",
    "# sweeps\n",
    "sweeps = []\n",
    "\n",
    "#############################\n",
    "# Loop until delta < theta: #\n",
    "#############################\n",
    "while delta >= theta:\n",
    "\n",
    "    # delta <- 0\n",
    "    delta = 0\n",
    "    \n",
    "    # Add to sweep\n",
    "    sweeps.append(V.copy())\n",
    "    \n",
    "    ########################\n",
    "    # loop for each s of S #\n",
    "    ########################\n",
    "    for s in range(1, goal):\n",
    "\n",
    "        # v <- V (s)\n",
    "        v = V[s]\n",
    "        \n",
    "        # keep track of actions, values\n",
    "        q = {}\n",
    "        \n",
    "        # test each action\n",
    "        for a in policy[s]:\n",
    "            \n",
    "            # Casino\n",
    "            win = goal if s+a > goal else s+a\n",
    "            lose = 0 if s-a < 0 else s-a\n",
    "            \n",
    "            # reward\n",
    "            r = 0 if win < goal else 1\n",
    "            \n",
    "            #############################################\n",
    "            # V(s) max_a p(s', r|s, a)[r + Gamma*V(s')] #\n",
    "            #############################################\n",
    "            q[a] = heads*(r + V[win]) + tails*(0 + V[lose])\n",
    "\n",
    "        # place the max value in state\n",
    "        V[s] = max(q.values()) \n",
    "        \n",
    "        # Start new policy\n",
    "        pi[s] = [action for action, value in q.items() if value == max(q.values())]\n",
    "\n",
    "        ###################################\n",
    "        # delta <- max(delta, |v - V(s)|) #\n",
    "        ###################################\n",
    "        delta = max(delta, abs(v - V[s]))\n",
    "\n",
    "# add last sweep\n",
    "sweeps.append(V)        \n",
    "\n",
    "########################\n",
    "# loop for each s of S #\n",
    "########################\n",
    "for s in range(1, goal):\n",
    "\n",
    "    # keep track of actions, values\n",
    "    q = {}\n",
    "\n",
    "    # test each action\n",
    "    for a in pi[s]:\n",
    "\n",
    "        # Casino\n",
    "        win = goal if s+a > goal else s+a\n",
    "        lose = 0 if s-a < 0 else s-a\n",
    "\n",
    "        # reward\n",
    "        r = 0 if win < goal else 1\n",
    "\n",
    "        #############################################\n",
    "        # V(s) max_a p(s', r|s, a)[r + Gamma*V(s')] #\n",
    "        #############################################\n",
    "        q[a] = heads*(r + V[win]) + tails*(0 + V[lose])\n",
    "\n",
    "    #######################################################\n",
    "    # Pi(s) = argmax_a SUM p(s', r|s, a)[r + Gamma*V(s')] #\n",
    "    #######################################################\n",
    "    policy[s] = [action for action, value in q.items() if value == max(q.values())]\n",
    "\n",
    "# Final policy plotting\n",
    "for sweep, v in enumerate(sweeps[1:]):\n",
    "    plt.plot(v[:goal], label=f'Sweep {sweep+1}')\n",
    "plt.xlabel(\"Capital\")\n",
    "plt.ylabel(\"Value estimates\")\n",
    "plt.xticks([1, 25, 50, 75, 99])\n",
    "plt.title(\"Gambler's Problem Value Iteration\")\n",
    "plt.legend(loc=\"best\")\n",
    "plt.show()\n",
    "\n",
    "for i in range(1, len(policy)):\n",
    "    plt.bar(i, policy[i])\n",
    "plt.xlabel(\"Capital\")\n",
    "plt.ylabel(\"Stake\")\n",
    "plt.title(\"Final Policy\")\n",
    "plt.xticks([1, 25, 50, 75, 99])\n",
    "plt.yticks([1, 10, 20, 30, 40, 50])\n",
    "plt.show()"
   ]
  },
  {
   "cell_type": "code",
   "execution_count": null,
   "metadata": {},
   "outputs": [],
   "source": []
  }
 ],
 "metadata": {
  "kernelspec": {
   "display_name": "Python 3",
   "language": "python",
   "name": "python3"
  },
  "language_info": {
   "codemirror_mode": {
    "name": "ipython",
    "version": 3
   },
   "file_extension": ".py",
   "mimetype": "text/x-python",
   "name": "python",
   "nbconvert_exporter": "python",
   "pygments_lexer": "ipython3",
   "version": "3.7.6"
  }
 },
 "nbformat": 4,
 "nbformat_minor": 4
}
