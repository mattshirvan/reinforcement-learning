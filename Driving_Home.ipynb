{
 "cells": [
  {
   "cell_type": "markdown",
   "metadata": {},
   "source": [
    "# Driving Home\n",
    "- Each day agent drives home from work\n",
    "- Agent tries to predict how long it will take to get home\n",
    "- When the agent leaves the office state\n",
    "- Agent notes: the time, the day of week, the weather, and anything relevant."
   ]
  },
  {
   "cell_type": "code",
   "execution_count": 77,
   "metadata": {},
   "outputs": [],
   "source": [
    "import random"
   ]
  },
  {
   "cell_type": "code",
   "execution_count": 78,
   "metadata": {},
   "outputs": [],
   "source": [
    "#####################################\n",
    "# Tabular TD(0) for estimating v-pi #\n",
    "#####################################\n",
    "\n",
    "# Input: the policy pi to be evaluated key: states, value: action\n",
    "policy = {\"car\": 1, \"exit\": 1, \"side\": 1, \"main\": 1}\n",
    "\n",
    "# Algorithm parameter: step size a -> (0, 1]\n",
    "alpha = 1.0\n",
    "\n",
    "# Initialize V(s), for all s of S+ (arbitrarily) and V(terminal) = 0\n",
    "V = [0] * 6;\n",
    "\n",
    "# Loop for each episode:\n",
    "for _ in range(100):\n",
    "    \n",
    "    # Initialize S\n",
    "    S = 1\n",
    "    \n",
    "    # Loop for each step of episode: A <- action given by pi for S until S is terminal\n",
    "    for A in policy.values():\n",
    "        \n",
    "        # V(S) <-- V(S) + alpha*[R + V(S') - V(S)]\n",
    "        V[S] = V[S] + alpha*(random.randrange(0, 41, 5) + V[S+A] - V[S])\n",
    "        \n",
    "        # S <-- S'\n",
    "        S += A\n"
   ]
  },
  {
   "cell_type": "code",
   "execution_count": 79,
   "metadata": {},
   "outputs": [
    {
     "name": "stdout",
     "output_type": "stream",
     "text": [
      "[0, 50.0, 75.0, 55.0, 30.0, 0]\n"
     ]
    }
   ],
   "source": [
    "print(V)"
   ]
  },
  {
   "cell_type": "code",
   "execution_count": null,
   "metadata": {},
   "outputs": [],
   "source": []
  }
 ],
 "metadata": {
  "kernelspec": {
   "display_name": "Python 3",
   "language": "python",
   "name": "python3"
  },
  "language_info": {
   "codemirror_mode": {
    "name": "ipython",
    "version": 3
   },
   "file_extension": ".py",
   "mimetype": "text/x-python",
   "name": "python",
   "nbconvert_exporter": "python",
   "pygments_lexer": "ipython3",
   "version": "3.7.6"
  }
 },
 "nbformat": 4,
 "nbformat_minor": 4
}
