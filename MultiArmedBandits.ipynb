{
 "cells": [
  {
   "cell_type": "code",
   "execution_count": 56,
   "metadata": {},
   "outputs": [],
   "source": [
    "from IPython.display import display, Math\n",
    "import random\n",
    "import matplotlib.pyplot as plt\n",
    "import math"
   ]
  },
  {
   "cell_type": "code",
   "execution_count": 57,
   "metadata": {},
   "outputs": [
    {
     "data": {
      "text/latex": [
       "$\\displaystyle k-bandits \\ simulator$"
      ],
      "text/plain": [
       "<IPython.core.display.Math object>"
      ]
     },
     "metadata": {},
     "output_type": "display_data"
    },
    {
     "data": {
      "text/latex": [
       "$\\displaystyle Initialize,\\ for \\ a \\ = \\  1 \\ to \\ k:$"
      ],
      "text/plain": [
       "<IPython.core.display.Math object>"
      ]
     },
     "metadata": {},
     "output_type": "display_data"
    },
    {
     "data": {
      "text/latex": [
       "$\\displaystyle Q(a) \\gets 0$"
      ],
      "text/plain": [
       "<IPython.core.display.Math object>"
      ]
     },
     "metadata": {},
     "output_type": "display_data"
    },
    {
     "data": {
      "text/latex": [
       "$\\displaystyle N(a) \\gets 0$"
      ],
      "text/plain": [
       "<IPython.core.display.Math object>"
      ]
     },
     "metadata": {},
     "output_type": "display_data"
    },
    {
     "data": {
      "text/latex": [
       "$\\displaystyle Loop \\ forever:$"
      ],
      "text/plain": [
       "<IPython.core.display.Math object>"
      ]
     },
     "metadata": {},
     "output_type": "display_data"
    },
    {
     "data": {
      "text/latex": [
       "$\\displaystyle A \\gets \\lbrace ^{argmax_{a} \\ Q(a) \\ P \\ = \\ 1 \\ - \\ \\epsilon} _{\\ rand(a) \\ p \\ = \\ \\epsilon} $"
      ],
      "text/plain": [
       "<IPython.core.display.Math object>"
      ]
     },
     "metadata": {},
     "output_type": "display_data"
    },
    {
     "data": {
      "text/latex": [
       "$\\displaystyle R \\gets bandit(A)$"
      ],
      "text/plain": [
       "<IPython.core.display.Math object>"
      ]
     },
     "metadata": {},
     "output_type": "display_data"
    },
    {
     "data": {
      "text/latex": [
       "$\\displaystyle N(A) \\gets N(A) + 1$"
      ],
      "text/plain": [
       "<IPython.core.display.Math object>"
      ]
     },
     "metadata": {},
     "output_type": "display_data"
    },
    {
     "data": {
      "text/latex": [
       "$\\displaystyle Q(A) \\gets Q(A) + \\frac{1}{N(A)}[R - Q(A)]$"
      ],
      "text/plain": [
       "<IPython.core.display.Math object>"
      ]
     },
     "metadata": {},
     "output_type": "display_data"
    }
   ],
   "source": [
    "display(Math(\"k-bandits \\\\ simulator\"))\n",
    "display(Math(\"Initialize,\\\\ for \\\\ a \\\\ = \\\\  1 \\\\ to \\\\ k:\"))\n",
    "display(Math(\"Q(a) \\\\gets 0\"))\n",
    "display(Math(\"N(a) \\\\gets 0\"))\n",
    "display(Math(\"Loop \\\\ forever:\"))\n",
    "display(Math(\"A \\\\gets \\lbrace ^{argmax_{a} \\\\ Q(a) \\\\ P \\\\ = \\\\ 1 \\\\ - \\\\ \\\\epsilon} _{\\\\ rand(a) \\\\ p \\\\ = \\\\ \\\\epsilon} \"))\n",
    "display(Math(\"R \\\\gets bandit(A)\"))\n",
    "display(Math(\"N(A) \\\\gets N(A) + 1\"))\n",
    "display(Math(\"Q(A) \\\\gets Q(A) + \\\\frac{1}{N(A)}[R - Q(A)]\"))"
   ]
  },
  {
   "cell_type": "code",
   "execution_count": 58,
   "metadata": {},
   "outputs": [],
   "source": [
    "# k-bandit simulation\n",
    "k = 10\n",
    "\n",
    "# epsilon-greedy\n",
    "epsilon = [0.01, 0.1, 0]\n",
    "\n",
    "# number of simulation runs  \n",
    "episodes = 2000\n",
    "\n",
    "# number of time steps\n",
    "steps = 1000\n",
    "\n",
    "# step size parameter\n",
    "alpha = 0.01 "
   ]
  },
  {
   "cell_type": "code",
   "execution_count": 59,
   "metadata": {},
   "outputs": [],
   "source": [
    "def bandit(Q, A):\n",
    "    \"\"\"\n",
    "    Return bandit action\n",
    "    \"\"\"\n",
    "\n",
    "    # q*(a) = E[Rt|At =a]\n",
    "    return random.gauss(Q[A], 1.0)"
   ]
  },
  {
   "cell_type": "code",
   "execution_count": 60,
   "metadata": {},
   "outputs": [],
   "source": [
    "def e_greedy(Q, epsilon):\n",
    "    \"\"\"\n",
    "    Return an action based on e-greedy policy\n",
    "    \"\"\"\n",
    "\n",
    "    # Exploitation\n",
    "    action = Q.index(max(Q))\n",
    "    \n",
    "    # Exploration\n",
    "    if random.random() < epsilon:\n",
    "        \n",
    "        # Explorative action\n",
    "        action = Q.index(random.choice(Q))\n",
    "    \n",
    "    # e-greedy action\n",
    "    return action"
   ]
  },
  {
   "cell_type": "code",
   "execution_count": 61,
   "metadata": {},
   "outputs": [],
   "source": [
    "def test_bed(episodes, steps, epsilon, k):\n",
    "    \"\"\"\n",
    "    10 Armed TestBed\n",
    "    \"\"\"\n",
    "    \n",
    "    # Runs/Episodes\n",
    "    for _ in range(episodes):\n",
    "    \n",
    "        # Q(A) <-- 0\n",
    "        Q = [0] * k\n",
    "\n",
    "        # N(A) <-- 0 \n",
    "        N = [0] * k\n",
    "    \n",
    "        # Loop forever\n",
    "        for _ in range(steps):\n",
    "        \n",
    "            # Action A <-- e-greedy()\n",
    "            A = e_greedy(Q, epsilon)\n",
    "            \n",
    "            # N(A) <-- N(A) + 1\n",
    "            N[A] += 1\n",
    "            \n",
    "            # Reward <-- Bandit(A)\n",
    "            R = bandit(Q, A)\n",
    "            \n",
    "            # Q(A) <-- Q(A) + 1/N(A)[R - Q(A)]\n",
    "            Q[A] = Q[A] + 1/N[A]*(R - Q[A])\n",
    "            \n",
    "    return Q"
   ]
  },
  {
   "cell_type": "code",
   "execution_count": 62,
   "metadata": {},
   "outputs": [],
   "source": [
    "def non_stationary(episodes, steps, epsilon, k, alpha):\n",
    "    \"\"\"\n",
    "    Non-Stationary Bandits\n",
    "    \"\"\"\n",
    "    \n",
    "    # Runs/Episodes\n",
    "    for _ in range(episodes):\n",
    "    \n",
    "        # Q(A) <-- 0\n",
    "        Q = [0] * k\n",
    "\n",
    "        # N(A) <-- 0 \n",
    "        N = [0] * k\n",
    "    \n",
    "        # Loop forever\n",
    "        for _ in range(steps):\n",
    "        \n",
    "            # Action A <-- e-greedy()\n",
    "            A = e_greedy(Q, epsilon)\n",
    "            \n",
    "            # N(A) <-- N(A) + 1\n",
    "            N[A] += 1\n",
    "            \n",
    "            # Reward <-- Bandit(A)\n",
    "            R = bandit(Q, A)\n",
    "            \n",
    "            # Q(A) <-- Q(A) + 1/N(A)[R - Q(A)]\n",
    "            Q[A] = Q[A] + alpha*(R - Q[A])\n",
    "            \n",
    "    return Q"
   ]
  },
  {
   "cell_type": "code",
   "execution_count": 63,
   "metadata": {},
   "outputs": [],
   "source": [
    "def optimistic(episodes, steps, epsilon, k, alpha):\n",
    "    \"\"\"\n",
    "    Non-Stationary Bandits\n",
    "    \"\"\"\n",
    "    \n",
    "    # Runs/Episodes\n",
    "    for _ in range(episodes):\n",
    "    \n",
    "        # Q(A) <-- 0\n",
    "        Q = [0.5] * k\n",
    "\n",
    "        # N(A) <-- 0 \n",
    "        N = [0] * k\n",
    "    \n",
    "        # Loop forever\n",
    "        for _ in range(steps):\n",
    "        \n",
    "            # Action A <-- e-greedy()\n",
    "            A = e_greedy(Q, epsilon)\n",
    "            \n",
    "            # N(A) <-- N(A) + 1\n",
    "            N[A] += 1\n",
    "            \n",
    "            # Reward <-- Bandit(A)\n",
    "            R = bandit(Q, A)\n",
    "            \n",
    "            # Q(A) <-- Q(A) + 1/N(A)[R - Q(A)]\n",
    "            Q[A] = Q[A] + alpha*(R - Q[A])\n",
    "            \n",
    "    return Q"
   ]
  },
  {
   "cell_type": "code",
   "execution_count": 64,
   "metadata": {},
   "outputs": [
    {
     "name": "stdout",
     "output_type": "stream",
     "text": [
      "10 armed testbed\n"
     ]
    },
    {
     "data": {
      "image/png": "[encoded data removed]",
      "text/plain": [
       "<Figure size 432x288 with 1 Axes>"
      ]
     },
     "metadata": {
      "needs_background": "light"
     },
     "output_type": "display_data"
    },
    {
     "name": "stdout",
     "output_type": "stream",
     "text": [
      "Tracking a non-stationary problem\n"
     ]
    },
    {
     "data": {
      "image/png": "[encoded data removed]",
      "text/plain": [
       "<Figure size 432x288 with 1 Axes>"
      ]
     },
     "metadata": {
      "needs_background": "light"
     },
     "output_type": "display_data"
    },
    {
     "name": "stdout",
     "output_type": "stream",
     "text": [
      "Optimistic Initial Values\n"
     ]
    },
    {
     "data": {
      "image/png": "[encoded data removed]",
      "text/plain": [
       "<Figure size 432x288 with 1 Axes>"
      ]
     },
     "metadata": {
      "needs_background": "light"
     },
     "output_type": "display_data"
    }
   ],
   "source": [
    "print(\"10 armed testbed\")\n",
    "plt.plot(test_bed(episodes, steps, epsilon[0], k))\n",
    "plt.plot(test_bed(episodes, steps, epsilon[1], k))\n",
    "plt.plot(test_bed(episodes, steps, epsilon[2], k))\n",
    "plt.show()\n",
    "\n",
    "print(\"Tracking a non-stationary problem\")\n",
    "plt.plot(non_stationary(episodes, steps, epsilon[0], k, alpha))\n",
    "plt.plot(non_stationary(episodes, steps, epsilon[1], k, alpha))\n",
    "plt.plot(non_stationary(episodes, steps, epsilon[2], k, alpha))\n",
    "plt.show()\n",
    "\n",
    "print(\"Optimistic Initial Values\")\n",
    "plt.plot(optimistic(episodes, steps, epsilon[0], k, alpha))\n",
    "plt.plot(optimistic(episodes, steps, epsilon[1], k, alpha))\n",
    "plt.plot(optimistic(episodes, steps, epsilon[2], k, alpha))\n",
    "plt.show()"
   ]
  },
  {
   "cell_type": "code",
   "execution_count": null,
   "metadata": {},
   "outputs": [],
   "source": []
  }
 ],
 "metadata": {
  "kernelspec": {
   "display_name": "Python 3",
   "language": "python",
   "name": "python3"
  },
  "language_info": {
   "codemirror_mode": {
    "name": "ipython",
    "version": 3
   },
   "file_extension": ".py",
   "mimetype": "text/x-python",
   "name": "python",
   "nbconvert_exporter": "python",
   "pygments_lexer": "ipython3",
   "version": "3.7.6"
  }
 },
 "nbformat": 4,
 "nbformat_minor": 4
}
