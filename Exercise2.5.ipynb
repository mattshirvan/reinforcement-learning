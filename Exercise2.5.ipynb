{
 "cells": [
  {
   "cell_type": "markdown",
   "metadata": {},
   "source": [
    "# Exercise 2.5 (programming) Design and Conduct an Experiment \n",
    "- Conduct an experiment to demonstrate the difficulties that sample-average methods have for nonstationary problems. \n",
    "- Use a modified version of the 10-armed testbed\n",
    "- $q_{*}(a)$ start out equal and then take independent random walks (say by adding a normally distributed increment with mean zero and standard deviation 0.01 to all the $q_{*}(a)$ on each step). \n",
    "- Prepare plots like Figure 2.2 \n",
    "- For an action-value method using sample averages, incrementally computed \n",
    "- Another action-value method using a constant step-size parameter, $\\alpha$ = 0.1. \n",
    "- Use $\\epsilon$ = 0.1 and longer runs, say of 10,000 steps."
   ]
  },
  {
   "cell_type": "code",
   "execution_count": 110,
   "metadata": {},
   "outputs": [],
   "source": [
    "import random\n",
    "import matplotlib.pyplot as pl"
   ]
  },
  {
   "cell_type": "code",
   "execution_count": 111,
   "metadata": {},
   "outputs": [],
   "source": [
    "ten_arm_testbed = [random.gauss(0, 0.01) for i in range(10)]"
   ]
  },
  {
   "cell_type": "code",
   "execution_count": 112,
   "metadata": {},
   "outputs": [],
   "source": [
    "def argmax(Q):\n",
    "    \"\"\"\n",
    "    Returns the argmax a Q with ties broken randomly\n",
    "    \"\"\"\n",
    "    \n",
    "    # maxvals\n",
    "    max_val = float('-inf')\n",
    "    \n",
    "    # Keep track of ties\n",
    "    ties = []\n",
    "    \n",
    "    # Loop through Q values \n",
    "    for i in range(len(Q)):\n",
    "        \n",
    "        # Q value greater than max_val\n",
    "        if Q[i] > max_val:\n",
    "            \n",
    "            # New maximum value\n",
    "            max_val = Q[i]\n",
    "            \n",
    "            # Clear ties\n",
    "            ties.clear()\n",
    "            \n",
    "        # Q value equal to max_val\n",
    "        if Q[i] == max_val:\n",
    "            \n",
    "            # Append index to ties\n",
    "            ties.append(i)\n",
    "    \n",
    "    # Ties broken randomly\n",
    "    return random.choice(ties)"
   ]
  },
  {
   "cell_type": "code",
   "execution_count": 113,
   "metadata": {},
   "outputs": [],
   "source": [
    "def e_greedy(Q, epsilon):\n",
    "    \"\"\"\n",
    "    Returns the action chosen with probability e-greedy.\n",
    "    \"\"\"\n",
    "    \n",
    "    # Greedy action \n",
    "    action = argmax(Q)\n",
    "    \n",
    "    # Exploratory action\n",
    "    if random.random() < epsilon:\n",
    "        \n",
    "        # Explore\n",
    "        action = random.randint(0, len(Q)-1)\n",
    "        \n",
    "    return action"
   ]
  },
  {
   "cell_type": "code",
   "execution_count": 114,
   "metadata": {},
   "outputs": [],
   "source": [
    "def bandit(a):\n",
    "    \"\"\"\n",
    "    Return reward signal from bandit arm pull\n",
    "    \"\"\"\n",
    "    \n",
    "    # 10-arm testbed\n",
    "    global ten_arm_testbed\n",
    "    \n",
    "    # Step rewards for non-stationary\n",
    "    ten_arm_testbed[a] += random.gauss(0, 0.01)\n",
    "    \n",
    "    # Pull arm and receive non-stationary reward\n",
    "    return ten_arm_testbed[a]"
   ]
  },
  {
   "cell_type": "code",
   "execution_count": 115,
   "metadata": {},
   "outputs": [],
   "source": [
    "def stationary(epsilon, steps, k = len(ten_arm_testbed)):\n",
    "    \"\"\"\n",
    "    Returns sample-average method for stationary rewards\n",
    "    \"\"\"\n",
    "    \n",
    "    # Q(a) <-- 0\n",
    "    Q = [0] * k\n",
    "    \n",
    "    # N(a) <-- 0\n",
    "    N = [0] * k\n",
    "    \n",
    "    # Keep track of rewards\n",
    "    rewards = [0]; averages = []\n",
    "    \n",
    "    # Loop forever:\n",
    "    for step in range(steps):\n",
    "        \n",
    "        # Take action\n",
    "        A = e_greedy(Q, epsilon)\n",
    "        \n",
    "        # Reward\n",
    "        R = bandit(A)\n",
    "        \n",
    "        # Action count\n",
    "        N[A] = N[A] + 1\n",
    "        \n",
    "        # Update Q values for old action\n",
    "        Q[A] = Q[A] + (1/N[A])*(R - Q[A])\n",
    "        \n",
    "        # Append reward\n",
    "        rewards.append(rewards[-1] + R)\n",
    "        averages.append(rewards[-1] / (step + 1))\n",
    "        \n",
    "    return averages"
   ]
  },
  {
   "cell_type": "code",
   "execution_count": 116,
   "metadata": {},
   "outputs": [],
   "source": [
    "def non_stationary(epsilon, alpha, steps, k = len(ten_arm_testbed)):\n",
    "    \"\"\"\n",
    "    Returns Constant step-size parameter method for non-stationary rewards\n",
    "    \"\"\"\n",
    "    \n",
    "    # Q(a) <-- 0\n",
    "    Q = [0] * k\n",
    "    \n",
    "    # N(a) <-- 0\n",
    "    N = [0] * k\n",
    "    \n",
    "    # Keep track of rewards\n",
    "    rewards = [0]; averages = []\n",
    "    \n",
    "    # Loop forever:\n",
    "    for step in range(steps):\n",
    "        \n",
    "        # Take action\n",
    "        A = e_greedy(Q, epsilon)\n",
    "        \n",
    "        # Reward\n",
    "        R = bandit(A)\n",
    "        \n",
    "        # Action count\n",
    "        N[A] = N[A] + 1\n",
    "        \n",
    "        # Update Q values for old action\n",
    "        Q[A] = Q[A] + alpha*(R - Q[A])\n",
    "        \n",
    "        # Append reward\n",
    "        rewards.append(rewards[-1] + R)\n",
    "        averages.append(rewards[-1] / (step + 1))\n",
    "        \n",
    "    return averages"
   ]
  },
  {
   "cell_type": "code",
   "execution_count": 117,
   "metadata": {},
   "outputs": [
    {
     "data": {
      "text/plain": [
       "<matplotlib.legend.Legend at 0x176faa79bc8>"
      ]
     },
     "execution_count": 117,
     "metadata": {},
     "output_type": "execute_result"
    },
    {
     "data": {
      "image/png": "[encoded data removed]",
      "text/plain": [
       "<Figure size 432x288 with 1 Axes>"
      ]
     },
     "metadata": {
      "needs_background": "light"
     },
     "output_type": "display_data"
    }
   ],
   "source": [
    "pl.plot(stationary(0.1, 10000), label=\"Sample-Average Method\")\n",
    "pl.plot(non_stationary(0.1, 0.1, 10000), label=\"Weighted-Average Method\")\n",
    "pl.legend()"
   ]
  },
  {
   "cell_type": "code",
   "execution_count": null,
   "metadata": {},
   "outputs": [],
   "source": []
  }
 ],
 "metadata": {
  "kernelspec": {
   "display_name": "Python 3",
   "language": "python",
   "name": "python3"
  },
  "language_info": {
   "codemirror_mode": {
    "name": "ipython",
    "version": 3
   },
   "file_extension": ".py",
   "mimetype": "text/x-python",
   "name": "python",
   "nbconvert_exporter": "python",
   "pygments_lexer": "ipython3",
   "version": "3.7.6"
  }
 },
 "nbformat": 4,
 "nbformat_minor": 4
}
