{
 "cells": [
  {
   "cell_type": "code",
   "execution_count": 4,
   "metadata": {},
   "outputs": [],
   "source": [
    "from IPython.display import display, Math\n",
    "import random\n",
    "import matplotlib.pyplot as plt\n",
    "import math"
   ]
  },
  {
   "cell_type": "code",
   "execution_count": 12,
   "metadata": {},
   "outputs": [
    {
     "data": {
      "text/latex": [
       "$\\displaystyle Non-Stationary \\ k-bandits \\ simulator$"
      ],
      "text/plain": [
       "<IPython.core.display.Math object>"
      ]
     },
     "metadata": {},
     "output_type": "display_data"
    },
    {
     "data": {
      "text/latex": [
       "$\\displaystyle Initialize,\\ for \\ a \\ = \\  1 \\ to \\ k:$"
      ],
      "text/plain": [
       "<IPython.core.display.Math object>"
      ]
     },
     "metadata": {},
     "output_type": "display_data"
    },
    {
     "data": {
      "text/latex": [
       "$\\displaystyle Q(a) \\gets 0$"
      ],
      "text/plain": [
       "<IPython.core.display.Math object>"
      ]
     },
     "metadata": {},
     "output_type": "display_data"
    },
    {
     "data": {
      "text/latex": [
       "$\\displaystyle N(a) \\gets 0$"
      ],
      "text/plain": [
       "<IPython.core.display.Math object>"
      ]
     },
     "metadata": {},
     "output_type": "display_data"
    },
    {
     "data": {
      "text/latex": [
       "$\\displaystyle Loop \\ forever:$"
      ],
      "text/plain": [
       "<IPython.core.display.Math object>"
      ]
     },
     "metadata": {},
     "output_type": "display_data"
    },
    {
     "data": {
      "text/latex": [
       "$\\displaystyle A \\gets \\lbrace ^{argmax_{a} \\ Q(a) \\ P \\ = \\ 1 \\ - \\ \\epsilon} _{\\ rand(a) \\ p \\ = \\ \\epsilon} $"
      ],
      "text/plain": [
       "<IPython.core.display.Math object>"
      ]
     },
     "metadata": {},
     "output_type": "display_data"
    },
    {
     "data": {
      "text/latex": [
       "$\\displaystyle R \\gets bandit(A)$"
      ],
      "text/plain": [
       "<IPython.core.display.Math object>"
      ]
     },
     "metadata": {},
     "output_type": "display_data"
    },
    {
     "data": {
      "text/latex": [
       "$\\displaystyle N(A) \\gets N(A) + 1$"
      ],
      "text/plain": [
       "<IPython.core.display.Math object>"
      ]
     },
     "metadata": {},
     "output_type": "display_data"
    },
    {
     "data": {
      "text/latex": [
       "$\\displaystyle Q_{n+1} \\gets Q_{n} + \\alpha[R_{n} \\ - \\ Q_{n}]$"
      ],
      "text/plain": [
       "<IPython.core.display.Math object>"
      ]
     },
     "metadata": {},
     "output_type": "display_data"
    },
    {
     "data": {
      "text/latex": [
       "$\\displaystyle q_{*}(n+1) \\gets q_{*}(n) + rand(n)$"
      ],
      "text/plain": [
       "<IPython.core.display.Math object>"
      ]
     },
     "metadata": {},
     "output_type": "display_data"
    }
   ],
   "source": [
    "display(Math(\"Non-Stationary \\\\ k-bandits \\\\ simulator\"))\n",
    "display(Math(\"Initialize,\\\\ for \\\\ a \\\\ = \\\\  1 \\\\ to \\\\ k:\"))\n",
    "display(Math(\"Q(a) \\\\gets 0\"))\n",
    "display(Math(\"N(a) \\\\gets 0\"))\n",
    "display(Math(\"Loop \\\\ forever:\"))\n",
    "display(Math(\"A \\\\gets \\lbrace ^{argmax_{a} \\\\ Q(a) \\\\ P \\\\ = \\\\ 1 \\\\ - \\\\ \\\\epsilon} _{\\\\ rand(a) \\\\ p \\\\ = \\\\ \\\\epsilon} \"))\n",
    "display(Math(\"R \\\\gets bandit(A)\"))\n",
    "display(Math(\"N(A) \\\\gets N(A) + 1\"))\n",
    "display(Math(\"Q_{n+1} \\\\gets Q_{n} + \\\\alpha[R_{n} \\\\ - \\\\ Q_{n}]\"))\n",
    "display(Math(\"q_{*}(n+1) \\\\gets q_{*}(n) + rand(n)\"))"
   ]
  },
  {
   "cell_type": "code",
   "execution_count": 31,
   "metadata": {},
   "outputs": [],
   "source": [
    "# k-bandits\n",
    "k = 10\n",
    "\n",
    "# q*(a) = E[Rt|At =a]\n",
    "expectation = [random.uniform(-1, 1) for i in range(k)]\n",
    "\n",
    "# epsilon - exploration\n",
    "epsilon = 0.01\n",
    "\n",
    "# number of simulation runs  \n",
    "runs = 2000\n",
    "\n",
    "# number of time steps\n",
    "times = 1000\n",
    "\n",
    "# alpha step size parameter\n",
    "alpha = 0.1\n",
    "\n",
    "# Q(A) estimate of action-value method - \n",
    "Q = [0] * k\n",
    "\n",
    "# N(A) action count - \n",
    "N = [0] * k\n",
    "\n",
    "# A = action at time step t\n",
    "A = 0\n",
    "\n",
    "# number of times a taken prior to t\n",
    "reward_distribution = []"
   ]
  },
  {
   "cell_type": "code",
   "execution_count": 32,
   "metadata": {},
   "outputs": [],
   "source": [
    "def bandit(A, q):\n",
    "    \"\"\"\n",
    "    Returns expected q*(a)\n",
    "    \"\"\"\n",
    "    q[A] += (q[A] + random.gauss(0, 0.01))\n",
    "    return q[A]\n",
    "\n",
    "\n",
    "def reset(Q, N, k):\n",
    "    for a in range(k):\n",
    "\n",
    "        # reset estimates\n",
    "        Q[a] = random.random()\n",
    "\n",
    "        # reset N(A) action count - \n",
    "        N[a] = 0\n",
    "    \n",
    "    return Q, N"
   ]
  },
  {
   "cell_type": "code",
   "execution_count": 33,
   "metadata": {},
   "outputs": [],
   "source": [
    "# Non-stationary k-bandits problem\n",
    "\n",
    "# 2000 runs\n",
    "for r in range(runs):\n",
    "    \n",
    "    # reset values\n",
    "    Q, N = reset(Q, N, k)\n",
    "    sum_of_rewards = 0\n",
    "    \n",
    "    # Incremental Implementation at 1000 times per run\n",
    "    for n in range(1, times+1):\n",
    "\n",
    "        # Argmax Q\n",
    "        A = Q.index(max(Q))\n",
    "\n",
    "        # random\n",
    "        if random.randint(1,100)/100.0 <= epsilon:\n",
    "            A = random.randint(0,9)\n",
    "\n",
    "        # reward for a at time step t\n",
    "        R = bandit(A, expectation)\n",
    "\n",
    "        # Update Action-Value Method\n",
    "        Q[A] += (Q[A] + alpha*(R - Q[A]))\n",
    "\n",
    "        # keep count of each action\n",
    "        N[A] += 1\n",
    "\n",
    "        # sum of rewards when a taken prior to t\n",
    "        sum_of_rewards += R\n",
    "\n",
    "        # average reward\n",
    "        average = sum_of_rewards/n\n",
    "\n",
    "        # add to reward distribution\n",
    "        reward_distribution.append(average)\n"
   ]
  },
  {
   "cell_type": "code",
   "execution_count": 34,
   "metadata": {},
   "outputs": [
    {
     "data": {
      "image/png": "[encoded data removed]",
      "text/plain": [
       "<Figure size 432x288 with 1 Axes>"
      ]
     },
     "metadata": {
      "needs_background": "light"
     },
     "output_type": "display_data"
    }
   ],
   "source": [
    "plt.xlabel('Steps')\n",
    "plt.ylabel('Reward distribution')\n",
    "plt.title(\"k-bandit simulator\")\n",
    "plt.plot(N, reward_distribution[:k])\n",
    "plt.show()"
   ]
  },
  {
   "cell_type": "code",
   "execution_count": null,
   "metadata": {},
   "outputs": [],
   "source": []
  }
 ],
 "metadata": {
  "kernelspec": {
   "display_name": "Python 3",
   "language": "python",
   "name": "python3"
  },
  "language_info": {
   "codemirror_mode": {
    "name": "ipython",
    "version": 3
   },
   "file_extension": ".py",
   "mimetype": "text/x-python",
   "name": "python",
   "nbconvert_exporter": "python",
   "pygments_lexer": "ipython3",
   "version": "3.7.6"
  }
 },
 "nbformat": 4,
 "nbformat_minor": 4
}
