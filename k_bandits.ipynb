{
 "cells": [
  {
   "cell_type": "markdown",
   "metadata": {},
   "source": [
    "# Tracking a Nonstationary Problem"
   ]
  },
  {
   "cell_type": "code",
   "execution_count": 4,
   "metadata": {},
   "outputs": [],
   "source": [
    "from IPython.display import display, Math\n",
    "import random\n",
    "import matplotlib.pyplot as plt\n",
    "import math\n",
    "import numpy as np"
   ]
  },
  {
   "cell_type": "code",
   "execution_count": 5,
   "metadata": {},
   "outputs": [
    {
     "data": {
      "text/latex": [
       "$\\displaystyle k-bandits \\ simulator$"
      ],
      "text/plain": [
       "<IPython.core.display.Math object>"
      ]
     },
     "metadata": {},
     "output_type": "display_data"
    },
    {
     "data": {
      "text/latex": [
       "$\\displaystyle Initialize,\\ for \\ a \\ = \\  1 \\ to \\ k:$"
      ],
      "text/plain": [
       "<IPython.core.display.Math object>"
      ]
     },
     "metadata": {},
     "output_type": "display_data"
    },
    {
     "data": {
      "text/latex": [
       "$\\displaystyle Q(a) \\gets 0$"
      ],
      "text/plain": [
       "<IPython.core.display.Math object>"
      ]
     },
     "metadata": {},
     "output_type": "display_data"
    },
    {
     "data": {
      "text/latex": [
       "$\\displaystyle N(a) \\gets 0$"
      ],
      "text/plain": [
       "<IPython.core.display.Math object>"
      ]
     },
     "metadata": {},
     "output_type": "display_data"
    },
    {
     "data": {
      "text/latex": [
       "$\\displaystyle Loop \\ forever:$"
      ],
      "text/plain": [
       "<IPython.core.display.Math object>"
      ]
     },
     "metadata": {},
     "output_type": "display_data"
    },
    {
     "data": {
      "text/latex": [
       "$\\displaystyle A \\gets \\lbrace ^{argmax_{a} \\ Q(a) \\ P \\ = \\ 1 \\ - \\ \\epsilon} _{\\ rand(a) \\ p \\ = \\ \\epsilon} $"
      ],
      "text/plain": [
       "<IPython.core.display.Math object>"
      ]
     },
     "metadata": {},
     "output_type": "display_data"
    },
    {
     "data": {
      "text/latex": [
       "$\\displaystyle R \\gets bandit(A)$"
      ],
      "text/plain": [
       "<IPython.core.display.Math object>"
      ]
     },
     "metadata": {},
     "output_type": "display_data"
    },
    {
     "data": {
      "text/latex": [
       "$\\displaystyle N(A) \\gets N(A) + 1$"
      ],
      "text/plain": [
       "<IPython.core.display.Math object>"
      ]
     },
     "metadata": {},
     "output_type": "display_data"
    },
    {
     "data": {
      "text/latex": [
       "$\\displaystyle Q(A) \\gets Q(A) + \\frac{1}{N(A)}[R - Q(A)]$"
      ],
      "text/plain": [
       "<IPython.core.display.Math object>"
      ]
     },
     "metadata": {},
     "output_type": "display_data"
    }
   ],
   "source": [
    "display(Math(\"k-bandits \\\\ simulator\"))\n",
    "display(Math(\"Initialize,\\\\ for \\\\ a \\\\ = \\\\  1 \\\\ to \\\\ k:\"))\n",
    "display(Math(\"Q(a) \\\\gets 0\"))\n",
    "display(Math(\"N(a) \\\\gets 0\"))\n",
    "display(Math(\"Loop \\\\ forever:\"))\n",
    "display(Math(\"A \\\\gets \\lbrace ^{argmax_{a} \\\\ Q(a) \\\\ P \\\\ = \\\\ 1 \\\\ - \\\\ \\\\epsilon} _{\\\\ rand(a) \\\\ p \\\\ = \\\\ \\\\epsilon} \"))\n",
    "display(Math(\"R \\\\gets bandit(A)\"))\n",
    "display(Math(\"N(A) \\\\gets N(A) + 1\"))\n",
    "display(Math(\"Q(A) \\\\gets Q(A) + \\\\frac{1}{N(A)}[R - Q(A)]\"))"
   ]
  },
  {
   "cell_type": "code",
   "execution_count": 6,
   "metadata": {},
   "outputs": [],
   "source": [
    "# k-bandit simulation\n",
    "k = 10\n",
    "\n",
    "# epsilon-greedy\n",
    "epsilon = [0.01, 0.1, 0]\n",
    "\n",
    "# number of simulation runs  \n",
    "runs = 2000\n",
    "\n",
    "# number of time steps\n",
    "times = 1000\n",
    "\n",
    "# step size parameter\n",
    "step_size = 0.01 \n",
    "\n",
    "# number of times a taken prior to t\n",
    "reward_distribution = []"
   ]
  },
  {
   "cell_type": "code",
   "execution_count": 7,
   "metadata": {},
   "outputs": [],
   "source": [
    "def bandit(A, q):\n",
    "    \"\"\"\n",
    "    Returns expected q*(a)\n",
    "    \"\"\"\n",
    "    \n",
    "    return random.gauss(q[A], 1)"
   ]
  },
  {
   "cell_type": "code",
   "execution_count": 8,
   "metadata": {},
   "outputs": [],
   "source": [
    "def argmax(Q):\n",
    "    \"\"\"\n",
    "    Return argmax A\n",
    "    \"\"\"\n",
    "    \n",
    "    # Maximum value\n",
    "    max_val = float('-inf')\n",
    "    \n",
    "    # Keep track of ties\n",
    "    ties = []\n",
    "    \n",
    "    # Find max value\n",
    "    for i in range(len(Q)):\n",
    "        \n",
    "        # New max value\n",
    "        if Q[i] > max_val:\n",
    "            \n",
    "            # Update max\n",
    "            max_val = Q[i]\n",
    "            \n",
    "            # Reset ties\n",
    "            ties.clear()\n",
    "            \n",
    "        # Tie \n",
    "        if Q[i] == max_val:\n",
    "            \n",
    "            # Keep track of index\n",
    "            ties.append(i)\n",
    "    \n",
    "    # Ties broken randomly\n",
    "    return random.choice(ties)"
   ]
  },
  {
   "cell_type": "code",
   "execution_count": 9,
   "metadata": {},
   "outputs": [],
   "source": [
    "def e_greedy(Q, epsilon):\n",
    "    \"\"\"\n",
    "    Returns an action from e-greedy\n",
    "    \"\"\"\n",
    "    \n",
    "     # Greedy action\n",
    "    action = argmax(Q)\n",
    "\n",
    "    # With probability epsilon\n",
    "    if random.random() <= epsilon:\n",
    "        \n",
    "        # Exploratory action\n",
    "        action = random.randint(0, len(Q)-1)\n",
    "    \n",
    "    return action"
   ]
  },
  {
   "cell_type": "code",
   "execution_count": 10,
   "metadata": {},
   "outputs": [],
   "source": [
    "def simple_bandit(epsilon, steps=1000, k=10):\n",
    "    \"\"\"\n",
    "    Returns single run sample-average from stationary 10-arm testbed\n",
    "    \"\"\"\n",
    "    \n",
    "    # Q(a) <-- 0\n",
    "    Q = [0] * k\n",
    "    \n",
    "    # N(a) <-- 0\n",
    "    N = [0] * k\n",
    "    \n",
    "    # rewards list\n",
    "    rewards = [0]\n",
    "    \n",
    "    # averages\n",
    "    averages = []\n",
    "    \n",
    "    # q*(a) = E[Rt|At =a]\n",
    "    q = [random.gauss(0, 1) for i in range(k)]\n",
    "    \n",
    "    # Incremental Implementation at 1000 steps per run\n",
    "    for i in range(steps):\n",
    "            \n",
    "        # Action from e-greedy\n",
    "        A = e_greedy(Q, epsilon)\n",
    "\n",
    "        # reward for a at time step t\n",
    "        R = bandit(A, q)\n",
    "\n",
    "        # keep count of each action\n",
    "        N[A] = N[A] + 1\n",
    "\n",
    "        # update rule\n",
    "        Q[A] = Q[A] + (1/N[A])*(R - Q[A])\n",
    "\n",
    "        # add to rewards\n",
    "        rewards.append(rewards[-1] + R)\n",
    "\n",
    "        # add to averages\n",
    "        averages.append(rewards[-1]/(i+1))\n",
    "    \n",
    "    return averages"
   ]
  },
  {
   "cell_type": "code",
   "execution_count": 11,
   "metadata": {},
   "outputs": [],
   "source": [
    "def simulate_runs(runs, epsilon):\n",
    "    \"\"\"\n",
    "    Returns averages over 2,000 runs of 10-arm testbed\n",
    "    \"\"\"\n",
    "    \n",
    "    # distribution\n",
    "    distribution = []\n",
    "    \n",
    "    # Simulate 2,000 runs\n",
    "    for i in range(runs):\n",
    "        \n",
    "        # Add averages to reward average distribution\n",
    "        distribution.append(simple_bandit(epsilon=epsilon))\n",
    "        \n",
    "    # Return distribution of rewards over 2,000 runs\n",
    "    return distribution"
   ]
  },
  {
   "cell_type": "code",
   "execution_count": 12,
   "metadata": {},
   "outputs": [
    {
     "data": {
      "image/png": "[encoded data removed]",
      "text/plain": [
       "<Figure size 432x288 with 1 Axes>"
      ]
     },
     "metadata": {
      "needs_background": "light"
     },
     "output_type": "display_data"
    }
   ],
   "source": [
    "plt.xlabel('Steps')\n",
    "plt.ylabel('Average Reward')\n",
    "plt.title(\"10-arm Testbed\")\n",
    "plt.plot([1.55 for _ in range(times)], linestyle=\"--\", label='Max possible', color='orange')\n",
    "plt.plot(np.mean(simulate_runs(runs, 0), axis=0), label=\"Epsilon = 0\", color='green')\n",
    "plt.plot(np.mean(simulate_runs(runs, 0.01), axis=0), label=\"Epsilon = 0.01\", color='red')\n",
    "plt.plot(np.mean(simulate_runs(runs, 0.1), axis=0), label=\"Epsilon = 0.1\", color='blue')\n",
    "plt.legend()\n",
    "plt.show()"
   ]
  },
  {
   "cell_type": "code",
   "execution_count": 13,
   "metadata": {},
   "outputs": [
    {
     "data": {
      "text/latex": [
       "$\\displaystyle Non-stationary \\ Bandits$"
      ],
      "text/plain": [
       "<IPython.core.display.Math object>"
      ]
     },
     "metadata": {},
     "output_type": "display_data"
    },
    {
     "data": {
      "text/latex": [
       "$\\displaystyle Initialize,\\ for \\ a \\ = \\  1 \\ to \\ k:$"
      ],
      "text/plain": [
       "<IPython.core.display.Math object>"
      ]
     },
     "metadata": {},
     "output_type": "display_data"
    },
    {
     "data": {
      "text/latex": [
       "$\\displaystyle Q(a) \\gets 0$"
      ],
      "text/plain": [
       "<IPython.core.display.Math object>"
      ]
     },
     "metadata": {},
     "output_type": "display_data"
    },
    {
     "data": {
      "text/latex": [
       "$\\displaystyle N(a) \\gets 0$"
      ],
      "text/plain": [
       "<IPython.core.display.Math object>"
      ]
     },
     "metadata": {},
     "output_type": "display_data"
    },
    {
     "data": {
      "text/latex": [
       "$\\displaystyle Loop \\ forever:$"
      ],
      "text/plain": [
       "<IPython.core.display.Math object>"
      ]
     },
     "metadata": {},
     "output_type": "display_data"
    },
    {
     "data": {
      "text/latex": [
       "$\\displaystyle A \\gets \\lbrace ^{argmax_{a} \\ Q(a) \\ P \\ = \\ 1 \\ - \\ \\epsilon} _{\\ rand(a) \\ p \\ = \\ \\epsilon} $"
      ],
      "text/plain": [
       "<IPython.core.display.Math object>"
      ]
     },
     "metadata": {},
     "output_type": "display_data"
    },
    {
     "data": {
      "text/latex": [
       "$\\displaystyle R \\gets bandit(A)$"
      ],
      "text/plain": [
       "<IPython.core.display.Math object>"
      ]
     },
     "metadata": {},
     "output_type": "display_data"
    },
    {
     "data": {
      "text/latex": [
       "$\\displaystyle N(A) \\gets N(A) + 1$"
      ],
      "text/plain": [
       "<IPython.core.display.Math object>"
      ]
     },
     "metadata": {},
     "output_type": "display_data"
    },
    {
     "data": {
      "text/latex": [
       "$\\displaystyle Q(A) \\gets Q(A) + \\alpha[R - Q(A)]$"
      ],
      "text/plain": [
       "<IPython.core.display.Math object>"
      ]
     },
     "metadata": {},
     "output_type": "display_data"
    }
   ],
   "source": [
    "display(Math(\"Non-stationary \\\\ Bandits\"))\n",
    "display(Math(\"Initialize,\\\\ for \\\\ a \\\\ = \\\\  1 \\\\ to \\\\ k:\"))\n",
    "display(Math(\"Q(a) \\\\gets 0\"))\n",
    "display(Math(\"N(a) \\\\gets 0\"))\n",
    "display(Math(\"Loop \\\\ forever:\"))\n",
    "display(Math(\"A \\\\gets \\lbrace ^{argmax_{a} \\\\ Q(a) \\\\ P \\\\ = \\\\ 1 \\\\ - \\\\ \\\\epsilon} _{\\\\ rand(a) \\\\ p \\\\ = \\\\ \\\\epsilon} \"))\n",
    "display(Math(\"R \\\\gets bandit(A)\"))\n",
    "display(Math(\"N(A) \\\\gets N(A) + 1\"))\n",
    "display(Math(\"Q(A) \\\\gets Q(A) + \\\\alpha[R - Q(A)]\"))"
   ]
  },
  {
   "cell_type": "code",
   "execution_count": 14,
   "metadata": {},
   "outputs": [],
   "source": [
    "def non_stationary(start, epsilon, steps=1000, k=10, alpha=0.1):\n",
    "    \"\"\"\n",
    "    Returns single run sample-average from non-stationary 10-arm testbed\n",
    "    \"\"\"\n",
    "    \n",
    "    # Q(a) <-- 0\n",
    "    Q = [start] * k\n",
    "    \n",
    "    # N(a) <-- 0\n",
    "    N = [0] * k\n",
    "    \n",
    "    # rewards list\n",
    "    rewards = [0]\n",
    "    \n",
    "    # averages\n",
    "    averages = []\n",
    "    \n",
    "    # q*(a) = E[Rt|At =a]\n",
    "    q = [random.gauss(0, 1) for i in range(k)]\n",
    "    \n",
    "    # Incremental Implementation at 1000 steps per run\n",
    "    for i in range(steps):\n",
    "            \n",
    "        # Action from e-greedy\n",
    "        A = e_greedy(Q, epsilon)\n",
    "\n",
    "        # reward for a at time step t\n",
    "        R = bandit(A, q)\n",
    "\n",
    "        # keep count of each action\n",
    "        N[A] = N[A] + 1\n",
    "\n",
    "        # update rule\n",
    "        Q[A] = Q[A] + alpha*(R - Q[A])\n",
    "        \n",
    "        # Step bandits\n",
    "        q[A] += random.gauss(0, 0.01)\n",
    "        \n",
    "        # add to rewards\n",
    "        rewards.append(rewards[-1] + R)\n",
    "\n",
    "        # add to averages\n",
    "        averages.append(rewards[-1]/(i+1))\n",
    "    \n",
    "    return averages"
   ]
  },
  {
   "cell_type": "code",
   "execution_count": 15,
   "metadata": {},
   "outputs": [],
   "source": [
    "def simulate_non_stationary(start, epsilon, runs=2000):\n",
    "    \"\"\"\n",
    "    Return non-stationary reward distribution\n",
    "    \"\"\"\n",
    "    \n",
    "    # distribution\n",
    "    distribution = []\n",
    "    \n",
    "    # Simulate 2,000 runs\n",
    "    for i in range(runs):\n",
    "        \n",
    "        # Add averages to reward average distribution\n",
    "        distribution.append(non_stationary(start, epsilon))\n",
    "        \n",
    "    # Return distribution of rewards over 2,000 runs\n",
    "    return distribution"
   ]
  },
  {
   "cell_type": "code",
   "execution_count": 16,
   "metadata": {},
   "outputs": [
    {
     "data": {
      "image/png": "[encoded data removed]",
      "text/plain": [
       "<Figure size 432x288 with 1 Axes>"
      ]
     },
     "metadata": {
      "needs_background": "light"
     },
     "output_type": "display_data"
    }
   ],
   "source": [
    "plt.xlabel('Steps')\n",
    "plt.ylabel('Average Reward')\n",
    "plt.title(\"Non-stationary 10-arm Testbed\")\n",
    "plt.plot([1.55 for _ in range(times)], linestyle=\"--\", label='Max possible', color='orange')\n",
    "plt.plot(np.mean(simulate_runs(runs, 0.1), axis=0), label=\"Q(a) = 0\", color='red')\n",
    "plt.plot(np.mean(simulate_non_stationary(start=5, epsilon=0), axis=0), label=\"Q(a) = 5\", color='blue')\n",
    "plt.legend()\n",
    "plt.show()"
   ]
  },
  {
   "cell_type": "code",
   "execution_count": 17,
   "metadata": {},
   "outputs": [
    {
     "data": {
      "text/latex": [
       "$\\displaystyle Upper Confidence Bound Action-Selection$"
      ],
      "text/plain": [
       "<IPython.core.display.Math object>"
      ]
     },
     "metadata": {},
     "output_type": "display_data"
    },
    {
     "data": {
      "text/latex": [
       "$\\displaystyle Initialize,\\ for \\ a \\ = \\  1 \\ to \\ k:$"
      ],
      "text/plain": [
       "<IPython.core.display.Math object>"
      ]
     },
     "metadata": {},
     "output_type": "display_data"
    },
    {
     "data": {
      "text/latex": [
       "$\\displaystyle Q(a) \\gets 0$"
      ],
      "text/plain": [
       "<IPython.core.display.Math object>"
      ]
     },
     "metadata": {},
     "output_type": "display_data"
    },
    {
     "data": {
      "text/latex": [
       "$\\displaystyle N(a) \\gets 0$"
      ],
      "text/plain": [
       "<IPython.core.display.Math object>"
      ]
     },
     "metadata": {},
     "output_type": "display_data"
    },
    {
     "data": {
      "text/latex": [
       "$\\displaystyle Loop \\ forever:$"
      ],
      "text/plain": [
       "<IPython.core.display.Math object>"
      ]
     },
     "metadata": {},
     "output_type": "display_data"
    },
    {
     "data": {
      "text/latex": [
       "$\\displaystyle A \\gets argmax \\ a \\lbrack Qt(a) + \\ c \\sqrt{\\frac{ln \\ t}{Nt(A)}} \\rbrack $"
      ],
      "text/plain": [
       "<IPython.core.display.Math object>"
      ]
     },
     "metadata": {},
     "output_type": "display_data"
    },
    {
     "data": {
      "text/latex": [
       "$\\displaystyle R \\gets bandit(A)$"
      ],
      "text/plain": [
       "<IPython.core.display.Math object>"
      ]
     },
     "metadata": {},
     "output_type": "display_data"
    },
    {
     "data": {
      "text/latex": [
       "$\\displaystyle N(A) \\gets N(A) + 1$"
      ],
      "text/plain": [
       "<IPython.core.display.Math object>"
      ]
     },
     "metadata": {},
     "output_type": "display_data"
    },
    {
     "data": {
      "text/latex": [
       "$\\displaystyle Q(A) \\gets Q(A) + \\frac{1}{N(A)}[R - Q(A)]$"
      ],
      "text/plain": [
       "<IPython.core.display.Math object>"
      ]
     },
     "metadata": {},
     "output_type": "display_data"
    }
   ],
   "source": [
    "display(Math(\"Upper Confidence Bound Action-Selection\"))\n",
    "display(Math(\"Initialize,\\\\ for \\\\ a \\\\ = \\\\  1 \\\\ to \\\\ k:\"))\n",
    "display(Math(\"Q(a) \\\\gets 0\"))\n",
    "display(Math(\"N(a) \\\\gets 0\"))\n",
    "display(Math(\"Loop \\\\ forever:\"))\n",
    "display(Math(\"A \\\\gets argmax \\\\ a \\\\lbrack Qt(a) + \\\\ c \\\\sqrt{\\\\frac{ln \\\\ t}{Nt(A)}} \\\\rbrack \"))\n",
    "display(Math(\"R \\\\gets bandit(A)\"))\n",
    "display(Math(\"N(A) \\\\gets N(A) + 1\"))\n",
    "display(Math(\"Q(A) \\\\gets Q(A) + \\\\frac{1}{N(A)}[R - Q(A)]\"))"
   ]
  },
  {
   "cell_type": "code",
   "execution_count": 18,
   "metadata": {},
   "outputs": [],
   "source": [
    "def ucb(c, steps=1000, k=10):\n",
    "    \"\"\"\n",
    "    Return sample-average from Upper-Confidence-Bound \n",
    "    \"\"\"\n",
    "    \n",
    "    # ucb limit\n",
    "    bound = [0] * k\n",
    "\n",
    "    # Q(a) <-- 0\n",
    "    Q = [0] * k\n",
    "    \n",
    "    # N(a) <-- 0\n",
    "    N = [0] * k\n",
    "    \n",
    "    # rewards list\n",
    "    rewards = [0]\n",
    "    \n",
    "    # averages\n",
    "    averages = []\n",
    "    \n",
    "    # q*(a) = E[Rt|At =a]\n",
    "    q = [random.gauss(0, 1) for i in range(k)]\n",
    "    \n",
    "    # Incremental Implementation at 1000 times per run\n",
    "    for i in range(steps):\n",
    "        \n",
    "        # test each action once\n",
    "        if i < k:\n",
    "            \n",
    "            # Sequential action test\n",
    "            A = i\n",
    "        \n",
    "        # once every action tested once\n",
    "        else:\n",
    "        \n",
    "            # Argmax a[Qt(a) + c sqrt(ln t/ Nt(a))]\n",
    "            A = argmax(bound)\n",
    "\n",
    "        # reward for a at time step t\n",
    "        R = bandit(A, q)\n",
    "\n",
    "        # keep count of each action\n",
    "        N[A] = N[A] + 1\n",
    "\n",
    "        # update rule\n",
    "        Q[A] = Q[A] + (1/N[A])*(R - Q[A])\n",
    "        \n",
    "        # UCB\n",
    "        bound[A] = Q[A] + c*math.sqrt(math.log(i+1)/N[A]) \n",
    "\n",
    "        # add to rewards\n",
    "        rewards.append(rewards[-1] + R)\n",
    "\n",
    "        # add to averages\n",
    "        averages.append(rewards[-1]/(i+1))\n",
    "    \n",
    "    return averages"
   ]
  },
  {
   "cell_type": "code",
   "execution_count": 19,
   "metadata": {},
   "outputs": [],
   "source": [
    "def simulate_ucb(c, runs=2000):\n",
    "    \"\"\"\n",
    "    Return UCB reward distribution\n",
    "    \"\"\"\n",
    "    \n",
    "    # distribution\n",
    "    distribution = []\n",
    "    \n",
    "    # Simulate 2,000 runs\n",
    "    for i in range(runs):\n",
    "        \n",
    "        # Add averages to reward average distribution\n",
    "        distribution.append(ucb(c=c))\n",
    "        \n",
    "    # Return distribution of rewards over 2,000 runs\n",
    "    return distribution"
   ]
  },
  {
   "cell_type": "code",
   "execution_count": 20,
   "metadata": {},
   "outputs": [
    {
     "data": {
      "image/png": "[encoded data removed]",
      "text/plain": [
       "<Figure size 432x288 with 1 Axes>"
      ]
     },
     "metadata": {
      "needs_background": "light"
     },
     "output_type": "display_data"
    }
   ],
   "source": [
    "plt.title(\"Upper-Confidence-Bound simulator\")\n",
    "plt.xlabel('Steps')\n",
    "plt.ylabel('Reward distribution')\n",
    "plt.plot([1.55 for _ in range(times)], linestyle=\"--\", label='Max possible', color='orange')\n",
    "plt.plot(np.mean(simulate_ucb(c=2), axis=0), label=\"UCB c = 2\", color='blue')\n",
    "plt.plot(np.mean(simulate_runs(runs, 0.1), axis=0), label=\"e-greedy = 0.1\", color='grey')\n",
    "plt.legend()\n",
    "plt.show()"
   ]
  },
  {
   "cell_type": "code",
   "execution_count": 21,
   "metadata": {},
   "outputs": [
    {
     "data": {
      "text/latex": [
       "$\\displaystyle Gradient Bandit Algorithm$"
      ],
      "text/plain": [
       "<IPython.core.display.Math object>"
      ]
     },
     "metadata": {},
     "output_type": "display_data"
    },
    {
     "data": {
      "text/latex": [
       "$\\displaystyle Initialize,\\ for \\ a \\ = \\  1 \\ to \\ k:$"
      ],
      "text/plain": [
       "<IPython.core.display.Math object>"
      ]
     },
     "metadata": {},
     "output_type": "display_data"
    },
    {
     "data": {
      "text/latex": [
       "$\\displaystyle Q(a) \\gets 0$"
      ],
      "text/plain": [
       "<IPython.core.display.Math object>"
      ]
     },
     "metadata": {},
     "output_type": "display_data"
    },
    {
     "data": {
      "text/latex": [
       "$\\displaystyle N(a) \\gets 0$"
      ],
      "text/plain": [
       "<IPython.core.display.Math object>"
      ]
     },
     "metadata": {},
     "output_type": "display_data"
    },
    {
     "data": {
      "text/latex": [
       "$\\displaystyle H(a) \\gets 0$"
      ],
      "text/plain": [
       "<IPython.core.display.Math object>"
      ]
     },
     "metadata": {},
     "output_type": "display_data"
    },
    {
     "data": {
      "text/latex": [
       "$\\displaystyle Loop \\ forever:$"
      ],
      "text/plain": [
       "<IPython.core.display.Math object>"
      ]
     },
     "metadata": {},
     "output_type": "display_data"
    },
    {
     "data": {
      "text/latex": [
       "$\\displaystyle Pr\\{ A_{t} \\ = \\ a \\} = \\frac{\\partial \\ e^{H_{t}(a)}}{\\partial  \\sum^{k} _{b=1} e^{H_{t}(b)}} = \\pi_{t}(a) $"
      ],
      "text/plain": [
       "<IPython.core.display.Math object>"
      ]
     },
     "metadata": {},
     "output_type": "display_data"
    },
    {
     "data": {
      "text/latex": [
       "$\\displaystyle R \\gets bandit(A)$"
      ],
      "text/plain": [
       "<IPython.core.display.Math object>"
      ]
     },
     "metadata": {},
     "output_type": "display_data"
    },
    {
     "data": {
      "text/latex": [
       "$\\displaystyle N(A) \\gets N(A) + 1$"
      ],
      "text/plain": [
       "<IPython.core.display.Math object>"
      ]
     },
     "metadata": {},
     "output_type": "display_data"
    },
    {
     "data": {
      "text/latex": [
       "$\\displaystyle Q(A) \\gets Q(A) + \\frac{1}{N(A)}[R - Q(A)]$"
      ],
      "text/plain": [
       "<IPython.core.display.Math object>"
      ]
     },
     "metadata": {},
     "output_type": "display_data"
    }
   ],
   "source": [
    "display(Math(\"Gradient Bandit Algorithm\"))\n",
    "display(Math(\"Initialize,\\\\ for \\\\ a \\\\ = \\\\  1 \\\\ to \\\\ k:\"))\n",
    "display(Math(\"Q(a) \\\\gets 0\"))\n",
    "display(Math(\"N(a) \\\\gets 0\"))\n",
    "display(Math(\"H(a) \\\\gets 0\"))\n",
    "display(Math(\"Loop \\\\ forever:\"))\n",
    "display(Math(\"Pr\\\\{ A_{t} \\\\ = \\\\ a \\\\} = \\\\frac{\\\\partial \\\\ e^{H_{t}(a)}}{\\\\partial  \\\\sum^{k} _{b=1} e^{H_{t}(b)}} = \\\\pi_{t}(a) \"))\n",
    "display(Math(\"R \\\\gets bandit(A)\"))\n",
    "display(Math(\"N(A) \\\\gets N(A) + 1\"))\n",
    "display(Math(\"Q(A) \\\\gets Q(A) + \\\\frac{1}{N(A)}[R - Q(A)]\"))"
   ]
  },
  {
   "cell_type": "code",
   "execution_count": 22,
   "metadata": {},
   "outputs": [],
   "source": [
    "def pr(H, a):\n",
    "    \"\"\"\n",
    "    Action probability from soft-max distribution\n",
    "    \"\"\"\n",
    "    \n",
    "    # Assign no preference\n",
    "    p = 0\n",
    "    \n",
    "    # Try to prevent overflow\n",
    "    try:\n",
    "        \n",
    "        # Probability \n",
    "        p = math.e**H[a]/sum([math.e**h for h in H])\n",
    "        \n",
    "    except OverflowError as err:\n",
    "        \n",
    "        return p \n",
    "    \n",
    "    return p"
   ]
  },
  {
   "cell_type": "code",
   "execution_count": 23,
   "metadata": {},
   "outputs": [],
   "source": [
    "def gradient(alpha, baseline, steps=1000, k=10):\n",
    "    \"\"\"\n",
    "    Gradient Bandit Algorithm\n",
    "    \"\"\"\n",
    "    \n",
    "    # Q(A) <-- 0\n",
    "    Q = [0] * k \n",
    "    \n",
    "    # N(A) <-- 0\n",
    "    N = [0] * k\n",
    "    \n",
    "    # H(A) <-- 0\n",
    "    H = [0] * k\n",
    "    \n",
    "    # pi(a)\n",
    "    policy = [1/k] * k\n",
    "    \n",
    "    # rewards list\n",
    "    rewards = [0]\n",
    "    \n",
    "    # averages\n",
    "    averages = []\n",
    "    \n",
    "    # q*(a) = E[Rt|At =a]\n",
    "    q = [random.gauss(0, 1) for i in range(k)]\n",
    "\n",
    "    # Incremental Implementation at 1000 times per run\n",
    "    for i in range(steps):\n",
    "        \n",
    "        # all actions have an equal probability of being selected\n",
    "        if i < k:\n",
    "\n",
    "            # Test first k actions\n",
    "            A = i\n",
    "        \n",
    "        # Action-Probability Pr{At = a}\n",
    "        else:\n",
    "            \n",
    "            # e^Ht(a)/sum(e^Ht(b))\n",
    "            policy[A] = pr(H, A)\n",
    "            \n",
    "            # Highest action probability\n",
    "            if math.isclose(max(Q), max(policy)):\n",
    "                \n",
    "                # argmax Q\n",
    "                A = argmax(Q)\n",
    "                \n",
    "            else:\n",
    "                \n",
    "                # argmax pi\n",
    "                A = np.argmax(policy)\n",
    "        \n",
    "        # reward for a at time step t\n",
    "        R = bandit(A, q) + 4\n",
    "\n",
    "        # keep count of each action\n",
    "        N[A] = N[A] + 1\n",
    "        \n",
    "        # keep count of each action\n",
    "        H[A] = H[A] + 1\n",
    "        \n",
    "        # update rule\n",
    "        Q[A] = Q[A] + (1/N[A])*(R - Q[A])\n",
    "\n",
    "        # add to rewards\n",
    "        rewards.append(rewards[-1] + R)\n",
    "\n",
    "        # add to averages\n",
    "        averages.append(rewards[-1]/(i+1))\n",
    "        \n",
    "        # Action-Preference update\n",
    "        if H[A] > 0:\n",
    "            \n",
    "            # No baseline\n",
    "            average = 0\n",
    "            \n",
    "            # Baseline \n",
    "            if baseline == True:\n",
    "                \n",
    "                # Reward average up to time t\n",
    "                average = averages[-1]\n",
    "            \n",
    "            # Action taken update\n",
    "            H[A] = H[A] + alpha*(R - average)*(1-policy[A])\n",
    "            \n",
    "            # Run through actions\n",
    "            for a in range(k):\n",
    "                \n",
    "                # Make sure actions not taken at time t\n",
    "                if a != A:\n",
    "                    \n",
    "                    # Actions not taken update\n",
    "                    H[a] = H[a] - alpha*(R - average)*policy[a]\n",
    "\n",
    "    return averages"
   ]
  },
  {
   "cell_type": "code",
   "execution_count": 24,
   "metadata": {},
   "outputs": [],
   "source": [
    "def simulate_gradient(alpha, baseline, runs=2000):\n",
    "    \"\"\"\n",
    "    Return UCB reward distribution\n",
    "    \"\"\"\n",
    "    \n",
    "    # distribution\n",
    "    distribution = []\n",
    "    \n",
    "    # Simulate 2,000 runs\n",
    "    for i in range(runs):\n",
    "        \n",
    "        # Add averages to reward average distribution\n",
    "        distribution.append(gradient(alpha, baseline))\n",
    "        \n",
    "    # Return distribution of rewards over 2,000 runs\n",
    "    return distribution"
   ]
  },
  {
   "cell_type": "code",
   "execution_count": 25,
   "metadata": {},
   "outputs": [
    {
     "data": {
      "image/png": "[encoded data removed]",
      "text/plain": [
       "<Figure size 432x288 with 1 Axes>"
      ]
     },
     "metadata": {
      "needs_background": "light"
     },
     "output_type": "display_data"
    }
   ],
   "source": [
    "plt.xlabel('Steps')\n",
    "plt.ylabel('Average Reward')\n",
    "plt.title(\"Gradient Bandit Simulator\")\n",
    "plt.plot(np.mean(simulate_gradient(alpha=0.1, baseline=True), axis=0), label=\"alpha = 0.1 with baseline\", color='blue')\n",
    "plt.plot(np.mean(simulate_gradient(alpha=0.4, baseline=True), axis=0), label=\"alpha = 0.4 with baseline\", color='red')\n",
    "plt.plot(np.mean(simulate_gradient(alpha=0.1, baseline=False), axis=0), label=\"alpha = 0.1 without baseline\", color='green')\n",
    "plt.plot(np.mean(simulate_gradient(alpha=0.4, baseline=False), axis=0), label=\"alpha = 0.4 without baseline\", color='orange')\n",
    "plt.legend()\n",
    "plt.show()"
   ]
  },
  {
   "cell_type": "code",
   "execution_count": null,
   "metadata": {},
   "outputs": [],
   "source": []
  }
 ],
 "metadata": {
  "kernelspec": {
   "display_name": "Python 3",
   "language": "python",
   "name": "python3"
  },
  "language_info": {
   "codemirror_mode": {
    "name": "ipython",
    "version": 3
   },
   "file_extension": ".py",
   "mimetype": "text/x-python",
   "name": "python",
   "nbconvert_exporter": "python",
   "pygments_lexer": "ipython3",
   "version": "3.7.6"
  }
 },
 "nbformat": 4,
 "nbformat_minor": 4
}
