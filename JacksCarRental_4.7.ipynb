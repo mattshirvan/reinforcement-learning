{
 "cells": [
  {
   "cell_type": "markdown",
   "metadata": {},
   "source": [
    "Exercise 4.7 (programming) Write a program for policy iteration and re-solve Jack’s car rental problem with the following changes. One of Jack’s employees at the first location rides a bus home each night and lives near the second location. She is happy to shuttle one car to the second location for free. Each additional car still costs \\\\$2, as do all cars moved in the other direction. In addition, Jack has limited parking space at each location. If more than 10 cars are kept overnight at a location (after any moving of cars), then an additional cost of $4 be incurred to use a second parking lot (independent of how many cars are kept there). These sorts of nonlinearities and arbitrary dynamics often occur in real problems and cannot easily be handled by optimization methods other than dynamic programming. To check your program, first replicate the results given for the original problem."
   ]
  },
  {
   "cell_type": "markdown",
   "metadata": {},
   "source": [
    "Example 4.2: Jack’s Car Rental Jack manages two locations for a nationwide car\n",
    "rental company. Each day, some number of customers arrive at each location to rent cars.\n",
    "If Jack has a car available, he rents it out and is credited \\\\$10 by the national company.\n",
    "If he is out of cars at that location, then the business is lost. Cars become available for\n",
    "renting the day after they are returned. To help ensure that cars are available where\n",
    "they are needed, Jack can move them between the two locations overnight, at a cost of\n",
    "$2 per car moved. We assume that the number of cars requested and returned at each\n",
    "location are Poisson random variables, meaning that the probability that the number is\n",
    "n is n\n",
    "n! e, where  is the expected number. Suppose  is 3 and 4 for rental requests at\n",
    "the first and second locations and 3 and 2 for returns. To simplify the problem slightly,\n",
    "we assume that there can be no more than 20 cars at each location (any additional cars\n",
    "are returned to the nationwide company, and thus disappear from the problem) and a\n",
    "maximum of five cars can be moved from one location to the other in one night. We take\n",
    "the discount rate to be  = 0.9 and formulate this as a continuing finite MDP, where\n",
    "the time steps are days, the state is the number of cars at each location at the end of\n",
    "the day, and the actions are the net numbers of cars moved between the two locations\n",
    "overnight. Figure 4.2 shows the sequence of policies found by policy iteration starting\n",
    "from the policy that never moves any cars"
   ]
  },
  {
   "cell_type": "code",
   "execution_count": null,
   "metadata": {},
   "outputs": [],
   "source": []
  }
 ],
 "metadata": {
  "kernelspec": {
   "display_name": "Python 3",
   "language": "python",
   "name": "python3"
  },
  "language_info": {
   "codemirror_mode": {
    "name": "ipython",
    "version": 3
   },
   "file_extension": ".py",
   "mimetype": "text/x-python",
   "name": "python",
   "nbconvert_exporter": "python",
   "pygments_lexer": "ipython3",
   "version": "3.7.6"
  }
 },
 "nbformat": 4,
 "nbformat_minor": 4
}
