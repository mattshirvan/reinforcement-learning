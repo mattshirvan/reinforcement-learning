{
 "cells": [
  {
   "cell_type": "markdown",
   "metadata": {},
   "source": [
    "# Example 3.3 Recycling Robot"
   ]
  },
  {
   "cell_type": "markdown",
   "metadata": {},
   "source": [
    "A mobile robot has the job of collecting empty soda cans in an oce environment. It\n",
    "has sensors for detecting cans, and an arm and gripper that can pick them up and place\n",
    "them in an onboard bin; it runs on a rechargeable battery. The robot’s control system\n",
    "has components for interpreting sensory information, for navigating, and for controlling\n",
    "the arm and gripper. High-level decisions about how to search for cans are made by a\n",
    "reinforcement learning agent based on the current charge level of the battery. "
   ]
  },
  {
   "cell_type": "markdown",
   "metadata": {},
   "source": [
    "To make a simple example, we assume that only two charge levels can be distinguished, comprising\n",
    "a small state set S = {high, low}. In each state, the agent can decide whether to \n",
    "- (1) actively search for a can for a certain period of time, \n",
    "- (2) remain stationary and wait for someone to bring it a can, or \n",
    "- (3) head back to its home base to recharge its battery.\n",
    "\n",
    "When the energy level is high, recharging would always be foolish, so we do not include it\n",
    "in the action set for this state. The action sets are then A(high) = {search, wait} and\n",
    "A(low) = {search, wait, recharge}."
   ]
  },
  {
   "cell_type": "markdown",
   "metadata": {},
   "source": [
    "The rewards are zero most of the time, but become positive when the robot secures an\n",
    "empty can, or large and negative if the battery runs all the way down. The best way to\n",
    "find cans is to actively search for them, but this runs down the robot’s battery, whereas\n",
    "waiting does not. Whenever the robot is searching, the possibility exists that its battery\n",
    "will become depleted. In this case the robot must shut down and wait to be rescued\n",
    "(producing a low reward). If the energy level is high, then a period of active search can\n",
    "always be completed without risk of depleting the battery. A period of searching that\n",
    "begins with a high energy level leaves the energy level high with probability $\\alpha$ and reduces\n",
    "it to low with probability 1 - $\\alpha$. On the other hand, a period of searching undertaken\n",
    "when the energy level is low leaves it low with probability $\\beta$ and depletes the battery\n",
    "with probability 1 - $\\beta$. In the latter case, the robot must be rescued, and the battery is\n",
    "then recharged back to high. Each can collected by the robot counts as a unit reward,\n",
    "whereas a reward of -3 results whenever the robot has to be rescued. Let r$_{search}$ and\n",
    "r$_{wait}$, with r$_{search}$ > r$_{wait}$, respectively denote the expected number of cans the robot\n",
    "will collect (and hence the expected reward) while searching and while waiting. Finally,\n",
    "suppose that no cans can be collected during a run home for recharging, and that no cans\n",
    "can be collected on a step in which the battery is depleted."
   ]
  },
  {
   "cell_type": "markdown",
   "metadata": {},
   "source": [
    "<img src=\"robot.png\">"
   ]
  },
  {
   "cell_type": "code",
   "execution_count": 56,
   "metadata": {},
   "outputs": [],
   "source": [
    "# Imports\n",
    "import random\n",
    "import matplotlib.pyplot as plt\n",
    "import numpy as np"
   ]
  },
  {
   "cell_type": "code",
   "execution_count": 57,
   "metadata": {},
   "outputs": [],
   "source": [
    "class Environment:\n",
    "    \"\"\"\n",
    "    Model simulation of the office environment \n",
    "    for the Recycle Robot Example.\n",
    "    Includes random cans in the office at each run.\n",
    "    \"\"\"\n",
    "    \n",
    "    def __init__(self):\n",
    "        self.alpha = random.uniform(0.01, 0.5)\n",
    "        self.beta = random.uniform(0.01, 0.5)\n",
    "        self.high = 0\n",
    "        self.low = 1\n",
    "        self.search = 0\n",
    "        self.wait = 1\n",
    "        self.recharge = 2\n",
    "        self.searching = 1\n",
    "        self.waiting = 0.1\n",
    "        self.rescue = -3\n",
    "        self.S = [self.high, self.low]\n",
    "        self.A = [self.search, self.wait, self.recharge]\n",
    "        self.model = self.create_model()\n",
    "        self.R = self.create_rewards()\n",
    "        \n",
    "    def create_model(self):\n",
    "        \"\"\"\n",
    "        Create a tabular dynamics model for the simulated environment\n",
    "        Create action probabilities for p(s'|s,a)\n",
    "        model = dict<k,v> keys: states, values: array of action probability tuples\n",
    "        \"\"\"\n",
    "        \n",
    "        # model\n",
    "        model = {\n",
    "            self.high: [\n",
    "                (self.alpha, 1-self.alpha), \n",
    "                (0, 0),\n",
    "            ], \n",
    "            self.low: [\n",
    "                (self.beta, 1-self.beta), \n",
    "                (0, 0), \n",
    "                (1, 0)\n",
    "            ]\n",
    "        }\n",
    "        \n",
    "        return model\n",
    "    \n",
    "    def create_rewards(self):\n",
    "        \"\"\"\n",
    "        Create a tabular dynamics r(s,a,s') model for the simulated environment\n",
    "        \"\"\"\n",
    "        \n",
    "        # reward model\n",
    "        reward = {\n",
    "            self.high: [\n",
    "                (self.searching, self.searching), \n",
    "                (self.waiting, 0),\n",
    "            ], \n",
    "            self.low: [\n",
    "                (self.rescue, self.searching), \n",
    "                (0, self.waiting), \n",
    "                (0, 0)\n",
    "            ]\n",
    "        }\n",
    "        \n",
    "        return reward\n",
    "    \n",
    "    def p(self, s, a, sprime):\n",
    "        \"\"\"\n",
    "        Returns Transition Probability p(s'|s,a)\n",
    "        \"\"\"\n",
    "        \n",
    "        return self.model[s][a][sprime]\n",
    "    \n",
    "    def r(self, s, a, sprime):\n",
    "        \"\"\"\n",
    "        Returns reward for s, a, s'\n",
    "        \"\"\"\n",
    "        \n",
    "        return self.R[s][a][sprime]"
   ]
  },
  {
   "cell_type": "code",
   "execution_count": 58,
   "metadata": {},
   "outputs": [],
   "source": [
    "env = Environment()"
   ]
  },
  {
   "cell_type": "code",
   "execution_count": 59,
   "metadata": {},
   "outputs": [
    {
     "data": {
      "text/plain": [
       "[0, 1, 2]"
      ]
     },
     "execution_count": 59,
     "metadata": {},
     "output_type": "execute_result"
    }
   ],
   "source": [
    "env.A"
   ]
  },
  {
   "cell_type": "code",
   "execution_count": 60,
   "metadata": {},
   "outputs": [
    {
     "data": {
      "text/plain": [
       "[0, 1]"
      ]
     },
     "execution_count": 60,
     "metadata": {},
     "output_type": "execute_result"
    }
   ],
   "source": [
    "env.S"
   ]
  },
  {
   "cell_type": "code",
   "execution_count": 61,
   "metadata": {},
   "outputs": [
    {
     "data": {
      "text/plain": [
       "{0: [(1, 1), (0.1, 0)], 1: [(-3, 1), (0, 0.1), (0, 0)]}"
      ]
     },
     "execution_count": 61,
     "metadata": {},
     "output_type": "execute_result"
    }
   ],
   "source": [
    "env.R"
   ]
  },
  {
   "cell_type": "code",
   "execution_count": 62,
   "metadata": {},
   "outputs": [
    {
     "data": {
      "text/plain": [
       "0.825531514800546"
      ]
     },
     "execution_count": 62,
     "metadata": {},
     "output_type": "execute_result"
    }
   ],
   "source": [
    "env.p(0, 0, 1)"
   ]
  },
  {
   "cell_type": "code",
   "execution_count": 63,
   "metadata": {},
   "outputs": [],
   "source": [
    "class Agent:\n",
    "    \n",
    "    def __init__(self):\n",
    "        self.pi = [[0.5, 0.33, 0], [0.33, 0.33, 0.33]]\n",
    "        self.gamma = 0.9\n",
    "    \n",
    "    def step(self, s, a, env, V):\n",
    "        \"\"\"\n",
    "        Mutates V from agent action\n",
    "        \"\"\"\n",
    "        \n",
    "        # Summation value\n",
    "        value = 0\n",
    "        \n",
    "        # Bootstrap next states from current (s,a)\n",
    "        for sprime in env.S:\n",
    "            \n",
    "            # Bellman Update\n",
    "            value += self.pi[s][a]*env.p(s, a, sprime)*(env.r(s,a,sprime) + self.gamma*V[sprime])\n",
    "        \n",
    "        return value\n",
    "        "
   ]
  },
  {
   "cell_type": "code",
   "execution_count": 64,
   "metadata": {},
   "outputs": [],
   "source": [
    "agent = Agent()"
   ]
  },
  {
   "cell_type": "code",
   "execution_count": 65,
   "metadata": {},
   "outputs": [],
   "source": [
    "# Policy\n",
    "policy = {0: [0, 1], 1: [0, 1, 2]}\n",
    "\n",
    "# Value function\n",
    "V = [0, 0]\n",
    "\n",
    "# Algorithm parameters\n",
    "delta = theta = 0.0001\n",
    "\n",
    "# Loop:\n",
    "while delta >= theta:\n",
    "    \n",
    "    # Delta <-- 0\n",
    "    delta = 0\n",
    "    \n",
    "    # Loop for each state\n",
    "    for s, actions in policy.items():\n",
    "        \n",
    "        # v <-- V(s)\n",
    "        v = V[s]\n",
    "        \n",
    "        # values for value function \n",
    "        value = 0\n",
    "        \n",
    "        # Test all actions\n",
    "        for a in actions:\n",
    "            \n",
    "            # Sum every action\n",
    "            value += agent.step(s, a, env, V)\n",
    "            \n",
    "        # Assign update to value function\n",
    "        V[s] = value\n",
    "        \n",
    "        # Delta = max(delta, |v-V(s)|)\n",
    "        delta = max(delta, abs(v-V[s]))"
   ]
  },
  {
   "cell_type": "code",
   "execution_count": 97,
   "metadata": {},
   "outputs": [
    {
     "data": {
      "image/png": "[encoded data removed]",
      "text/plain": [
       "<Figure size 432x288 with 1 Axes>"
      ]
     },
     "metadata": {
      "needs_background": "light"
     },
     "output_type": "display_data"
    }
   ],
   "source": [
    "fig = plt.figure()\n",
    "ax = fig.add_axes([0,0,1,1])\n",
    "states = ['High', 'Low']\n",
    "values = V\n",
    "ax.bar(states, values)\n",
    "ax.set_title(\"Recycle Robot State Values\")\n",
    "plt.show()"
   ]
  },
  {
   "cell_type": "code",
   "execution_count": null,
   "metadata": {},
   "outputs": [],
   "source": []
  }
 ],
 "metadata": {
  "kernelspec": {
   "display_name": "Python 3",
   "language": "python",
   "name": "python3"
  },
  "language_info": {
   "codemirror_mode": {
    "name": "ipython",
    "version": 3
   },
   "file_extension": ".py",
   "mimetype": "text/x-python",
   "name": "python",
   "nbconvert_exporter": "python",
   "pygments_lexer": "ipython3",
   "version": "3.7.6"
  }
 },
 "nbformat": 4,
 "nbformat_minor": 4
}
