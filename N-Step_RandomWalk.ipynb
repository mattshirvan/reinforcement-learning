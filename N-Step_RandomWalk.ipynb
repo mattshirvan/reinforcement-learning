{
 "cells": [
  {
   "cell_type": "markdown",
   "metadata": {},
   "source": [
    "# n-step TD Methods on the Random Walk"
   ]
  },
  {
   "cell_type": "code",
   "execution_count": 1,
   "metadata": {},
   "outputs": [],
   "source": [
    "import random\n",
    "import matplotlib.pyplot as plt"
   ]
  },
  {
   "cell_type": "code",
   "execution_count": 2,
   "metadata": {},
   "outputs": [],
   "source": [
    "# Step-size parameter --> (0,1]\n",
    "alpha = 0.1\n",
    "\n",
    "# TERMINAL\n",
    "terminal = [0, 20]\n",
    "\n",
    "# n in n-step\n",
    "n = 25\n",
    "\n",
    "# Episodes (runs)\n",
    "episodes = 100"
   ]
  },
  {
   "cell_type": "code",
   "execution_count": 3,
   "metadata": {},
   "outputs": [],
   "source": [
    "def n_step_td(alpha, n, terminal, episodes):\n",
    "    \"\"\"\n",
    "    n-step TD for estimating V = v_pi\n",
    "    \"\"\"\n",
    "\n",
    "    # Input: a policy pi\n",
    "    policy = (-1 ,1)\n",
    "    \n",
    "    # Initialize V(s) arbitrarily, for all s 2 S\n",
    "    V = [0] * 21\n",
    "    \n",
    "    # All store and access operations (for St and Rt) can take their index mod n + 1\n",
    "    store = []\n",
    "    \n",
    "    # Loop for each episode:\n",
    "    for i in range(episodes):\n",
    "        \n",
    "        # Initialize S0 != terminal\n",
    "        S = 10\n",
    "        \n",
    "        # Store S0 != terminal\n",
    "        store.append((S, 0))\n",
    "        \n",
    "        # T <-- inf\n",
    "        T = float('inf');  t = tau = 0\n",
    "        \n",
    "        # Loop for t = 0, 1, 2,... : Until t' = T - 1\n",
    "        while tau != T-1:\n",
    "\n",
    "            # If t < T, then:\n",
    "            if t < T:\n",
    "                \n",
    "                # Take an action according to pi(·|St)\n",
    "                S += random.choice(policy)\n",
    "                \n",
    "                # reset reward\n",
    "                R = 0\n",
    "                \n",
    "                # Take action A, observe R, S'\n",
    "                if S == terminal[0]: R = 0\n",
    "                    \n",
    "                # Take action A, observe R, S'\n",
    "                if S == terminal[1]: R = 1\n",
    "\n",
    "                # Store the next reward as Rt+1 and the next state as St+1\n",
    "                store.append((S, R))\n",
    "                \n",
    "                # If St+1 is terminal, then T <-- t + 1\n",
    "                if S in terminal: T = t + 1\n",
    "        \n",
    "            # t' <-- t - n +1 (t' is the time whose state’s estimate is being updated)\n",
    "            tau = t - n + 1\n",
    "            \n",
    "            # If t' >= 0:\n",
    "            if tau >= 0:\n",
    "            \n",
    "                # G <-- sum(i=t'+1 to min(t'+n,T)) gamma^i-t'-1*Ri\n",
    "                G = sum([store[i][1] for i in range(tau + 1, min(tau + n, T)+1)])\n",
    "                \n",
    "                # If t'+n < T, then: G <-- G + gamma^n*V(St'+n)\n",
    "                if tau+n < T: G = G + V[store[tau+n][0]]\n",
    "\n",
    "                # V(St') <-- V(St') + a[G - V(St')]\n",
    "                V[store[tau][0]] = V[store[tau][0]] + alpha*(G - V[store[tau][0]])\n",
    "            \n",
    "            # Until t' = T - 1\n",
    "            t += 1\n",
    "\n",
    "    # Return v_pi\n",
    "    return V"
   ]
  },
  {
   "cell_type": "code",
   "execution_count": 4,
   "metadata": {},
   "outputs": [
    {
     "name": "stdout",
     "output_type": "stream",
     "text": [
      "[0.476059110212517, 1.0647204726974508, 1.779717544739992, 1.686591961323786, 0.7610033578112437, 0.1262527173168598, 0.4037400517221632, 0.29114507930722644, 0.2041607386406197, 0.08360537419529404, 0.03684794867723369, 0.012195045362757407, 0.013831544568857702, 0.05549004361237179, 0.19077610921167798, 0.49197997242240327, 1.4345616707078281, 1.5150567677490887, 1.605532945825688, 1.747534720371962, 0.8048407157628558]\n"
     ]
    }
   ],
   "source": [
    "print(n_step_td(alpha, n, terminal, episodes))"
   ]
  }
 ],
 "metadata": {
  "kernelspec": {
   "display_name": "Python 3",
   "language": "python",
   "name": "python3"
  },
  "language_info": {
   "codemirror_mode": {
    "name": "ipython",
    "version": 3
   },
   "file_extension": ".py",
   "mimetype": "text/x-python",
   "name": "python",
   "nbconvert_exporter": "python",
   "pygments_lexer": "ipython3",
   "version": "3.7.6"
  }
 },
 "nbformat": 4,
 "nbformat_minor": 4
}
