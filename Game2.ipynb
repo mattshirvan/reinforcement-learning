{
 "cells": [
  {
   "cell_type": "markdown",
   "metadata": {},
   "source": [
    "# Grid World\n",
    "- States: 1-7 and two TERMINAL\n",
    "- Actions: Deterministic $\\pi$(a|s) = $\\pi$(s) \n",
    "    - one: East\n",
    "    - two: South\n",
    "    - three: North\n",
    "    - four: South\n",
    "    - five: South\n",
    "    - six: North\n",
    "    - seven: East\n",
    "- Reward: -1 on all transitions except when terminal"
   ]
  },
  {
   "cell_type": "code",
   "execution_count": 1,
   "metadata": {},
   "outputs": [],
   "source": [
    "import matplotlib.pyplot as plt"
   ]
  },
  {
   "cell_type": "code",
   "execution_count": 2,
   "metadata": {},
   "outputs": [],
   "source": [
    "# Input pi, the policy to be evaluated\n",
    "policy = {1: 1, 2: 3, 3: -3, 4: 3, 5: 3, 6: -3, 7: 1}\n",
    "\n",
    "# Algorithm parameter: a small threshold ✓ > 0 determining accuracy of estimation\n",
    "theta = delta = 0.1\n",
    "\n",
    "# Initialize V (s), for all s 2 S+, arbitrarily except that V (terminal)=0\n",
    "V = [0, -5, -2, -2, -3, -1, -3, -1, 0]\n",
    "\n",
    "# Loop: until delta < ✓\n",
    "while delta >= theta:\n",
    "    \n",
    "    # delta <-- 0\n",
    "    delta = 0\n",
    "    \n",
    "    # Loop for each state:\n",
    "    for state, action in policy.items():\n",
    "    \n",
    "        # v <-- V(s)\n",
    "        v = V[state]\n",
    "        \n",
    "        # V(s) <-- [r + *V(s')] undiscounted\n",
    "        V[state] = -1 + V[state+action] \n",
    "        \n",
    "        # delta <-- max(delta, |v - V(s)|)\n",
    "        delta = max(delta, abs(v-V[state]))\n"
   ]
  },
  {
   "cell_type": "code",
   "execution_count": 3,
   "metadata": {},
   "outputs": [
    {
     "name": "stdout",
     "output_type": "stream",
     "text": [
      "[0, -3, -2, -1, -2, -1, -2, -1, 0]\n"
     ]
    },
    {
     "data": {
      "image/png": "[encoded data removed]",
      "text/plain": [
       "<Figure size 432x288 with 1 Axes>"
      ]
     },
     "metadata": {
      "needs_background": "light"
     },
     "output_type": "display_data"
    }
   ],
   "source": [
    "# Show values \n",
    "print(V)\n",
    "plt.plot(V[1:7])\n",
    "plt.show()"
   ]
  },
  {
   "cell_type": "code",
   "execution_count": null,
   "metadata": {},
   "outputs": [],
   "source": []
  }
 ],
 "metadata": {
  "kernelspec": {
   "display_name": "Python 3",
   "language": "python",
   "name": "python3"
  },
  "language_info": {
   "codemirror_mode": {
    "name": "ipython",
    "version": 3
   },
   "file_extension": ".py",
   "mimetype": "text/x-python",
   "name": "python",
   "nbconvert_exporter": "python",
   "pygments_lexer": "ipython3",
   "version": "3.7.6"
  }
 },
 "nbformat": 4,
 "nbformat_minor": 4
}
